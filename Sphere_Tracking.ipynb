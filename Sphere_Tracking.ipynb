{
  "cells": [
    {
      "cell_type": "code",
      "execution_count": null,
      "metadata": {
        "colab": {
          "base_uri": "https://localhost:8080/"
        },
        "id": "3kuB0KW1JO7Q",
        "outputId": "578192e6-5625-4af1-fe8f-b70a6696ba22"
      },
      "outputs": [],
      "source": [
        "!git clone https://github.com/lenkaoua/SPHERE_TRACKING_SAM.git"
      ]
    },
    {
      "cell_type": "code",
      "execution_count": null,
      "metadata": {
        "colab": {
          "base_uri": "https://localhost:8080/"
        },
        "id": "PcES9_BGKLU5",
        "outputId": "28acb9ce-c2ab-4507-969c-21ec414148ce"
      },
      "outputs": [],
      "source": [
        "!nvidia-smi"
      ]
    },
    {
      "cell_type": "code",
      "execution_count": null,
      "metadata": {
        "id": "gTDCJux6KZwU"
      },
      "outputs": [],
      "source": [
        "!wget -q https://dl.fbaipublicfiles.com/segment_anything/sam_vit_h_4b8939.pth -P SPHERE_TRACKING_SAM"
      ]
    },
    {
      "cell_type": "code",
      "execution_count": null,
      "metadata": {
        "colab": {
          "base_uri": "https://localhost:8080/"
        },
        "id": "y2FECEC0TaXy",
        "outputId": "9c682e0c-9424-4ec2-b66a-0d55db8a8a5c"
      },
      "outputs": [],
      "source": [
        "%cd /content/SPHERE_TRACKING_SAM/\n",
        "!pip install -r requirements.txt"
      ]
    },
    {
      "cell_type": "code",
      "execution_count": null,
      "metadata": {
        "id": "VxiVEhjYMgPA"
      },
      "outputs": [],
      "source": [
        "!python3 sphere_tracking.py"
      ]
    },
    {
      "cell_type": "code",
      "execution_count": null,
      "metadata": {
        "id": "nzJ2rHSpktmO"
      },
      "outputs": [],
      "source": [
        "!zip -r /content/Output.zip Output\n",
        "\n",
        "from google.colab import files\n",
        "files.download(\"/content/Output.zip\")"
      ]
    }
  ],
  "metadata": {
    "accelerator": "GPU",
    "colab": {
      "gpuType": "T4",
      "provenance": []
    },
    "kernelspec": {
      "display_name": "Python 3",
      "name": "python3"
    },
    "language_info": {
      "name": "python"
    }
  },
  "nbformat": 4,
  "nbformat_minor": 0
}
